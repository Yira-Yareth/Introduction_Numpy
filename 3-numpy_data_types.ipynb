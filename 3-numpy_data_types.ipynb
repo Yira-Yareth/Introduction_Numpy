{
 "cells": [
  {
   "cell_type": "markdown",
   "metadata": {},
   "source": [
    "## The dtype argument\n",
    "One way to control the data type of a NumPy array is to declare it when the array is created using the dtype keyword argument. Take a look at the data type NumPy uses by default when creating an array with np.zeros(). Could it be updated?\n",
    "\n",
    "1.- Using np.zeros(), create an array of zeros that has three rows and two columns; call it zero_array.\n",
    "\n",
    "\n",
    "2.- Print the data type of zero_array."
   ]
  },
  {
   "cell_type": "code",
   "execution_count": 1,
   "metadata": {},
   "outputs": [],
   "source": [
    "#Libraries\n",
    "import numpy as np  #import NumPy"
   ]
  },
  {
   "cell_type": "code",
   "execution_count": 2,
   "metadata": {},
   "outputs": [
    {
     "name": "stdout",
     "output_type": "stream",
     "text": [
      "float64\n"
     ]
    }
   ],
   "source": [
    "# Create an array of zeros with three rows and two columns\n",
    "zero_array = np.zeros((3, 2))\n",
    "\n",
    "# Print the data type of zero_array\n",
    "print(zero_array.dtype)"
   ]
  },
  {
   "cell_type": "markdown",
   "metadata": {},
   "source": [
    "1-Create a new array of zeros called zero_int_array, which will also have three rows and two columns, but the data type should be np.int32.\n",
    "\n",
    "\n",
    "2-Print the data type of zero_int_array."
   ]
  },
  {
   "cell_type": "code",
   "execution_count": 3,
   "metadata": {},
   "outputs": [
    {
     "name": "stdout",
     "output_type": "stream",
     "text": [
      "int32\n"
     ]
    }
   ],
   "source": [
    "# Create a new array of int32 zeros with three rows and two columns\n",
    "zero_int_array = np.zeros((3, 2), dtype=np.int32)\n",
    "\n",
    "# Print the data type of zero_int_array\n",
    "print(zero_int_array.dtype)"
   ]
  },
  {
   "cell_type": "markdown",
   "metadata": {},
   "source": [
    "Nice! Since your original zero_array did not have any information following the decimal places of the floats, it makes sense to change the array's data type to an integer with a smaller bitsize."
   ]
  },
  {
   "cell_type": "markdown",
   "metadata": {},
   "source": [
    "### Anticipating data types\n",
    "Anticipating what data type an array will have is very important since some NumPy functionality only works with certain data types"
   ]
  },
  {
   "cell_type": "markdown",
   "metadata": {},
   "source": [
    "### A smaller sudoku game\n",
    "NumPy data types, which emphasize speed, are more specific than Python data types, which emphasize flexibility. When working with large amounts of data in NumPy, it's good practice to check the data type and consider whether a smaller data type is large enough for your data, since smaller data types use less memory.\n",
    "\n",
    "It's time to make your sudoku game more memory-efficient using your knowledge of data types!"
   ]
  },
  {
   "cell_type": "code",
   "execution_count": 4,
   "metadata": {},
   "outputs": [],
   "source": [
    "sudoku_game=np.array([[0, 0, 4, 3, 0, 0, 2, 0, 9],\n",
    "       [0, 0, 5, 0, 0, 9, 0, 0, 1],\n",
    "       [0, 7, 0, 0, 6, 0, 0, 4, 3],\n",
    "       [0, 0, 6, 0, 0, 2, 0, 8, 7],\n",
    "       [1, 9, 0, 0, 0, 7, 4, 0, 0],\n",
    "       [0, 5, 0, 0, 8, 3, 0, 0, 0],\n",
    "       [6, 0, 0, 0, 0, 0, 1, 0, 5],\n",
    "       [0, 0, 3, 5, 0, 8, 6, 9, 0],\n",
    "       [0, 4, 2, 9, 1, 0, 3, 0, 0]])"
   ]
  },
  {
   "cell_type": "code",
   "execution_count": 5,
   "metadata": {},
   "outputs": [
    {
     "name": "stdout",
     "output_type": "stream",
     "text": [
      "int32\n"
     ]
    }
   ],
   "source": [
    "print(sudoku_game.dtype)\n"
   ]
  },
  {
   "cell_type": "markdown",
   "metadata": {},
   "source": [
    "The current data type of sudoku_game is int32. Which of the following NumPy integers is the smallest bitsize that is still large enough to hold the data in sudoku_game? If you have never played sudoku, know that sudoku games only ever store integers from one to nine.\n",
    "\n",
    "\n",
    "A= np.int8"
   ]
  },
  {
   "cell_type": "markdown",
   "metadata": {},
   "source": [
    "1-Change the data type of sudoku_game to be int8, an 8-bit integer; name the new array small_sudoku_game.\n",
    "\n",
    "\n",
    "2-Print the data type of small_sudoku_game to be sure that your change to int8 is reflected."
   ]
  },
  {
   "cell_type": "code",
   "execution_count": 6,
   "metadata": {},
   "outputs": [
    {
     "name": "stdout",
     "output_type": "stream",
     "text": [
      "int8\n"
     ]
    }
   ],
   "source": [
    "# Change the data type of sudoku_game to int8\n",
    "small_sudoku_game = sudoku_game.astype(np.int8)\n",
    "\n",
    "# Print the data type of small_sudoku_game\n",
    "print(small_sudoku_game.dtype)"
   ]
  },
  {
   "cell_type": "markdown",
   "metadata": {},
   "source": [
    "Int-credible! Gr8 data type casting! int8 is one of the smallest data types in NumPy since 8 bits is only a single byte."
   ]
  }
 ],
 "metadata": {
  "kernelspec": {
   "display_name": "Python 3.9.6 64-bit",
   "language": "python",
   "name": "python3"
  },
  "language_info": {
   "codemirror_mode": {
    "name": "ipython",
    "version": 3
   },
   "file_extension": ".py",
   "mimetype": "text/x-python",
   "name": "python",
   "nbconvert_exporter": "python",
   "pygments_lexer": "ipython3",
   "version": "3.9.6"
  },
  "orig_nbformat": 4,
  "vscode": {
   "interpreter": {
    "hash": "af650602d757d9ec589b99dccc36d68a2434d2b392fcbd1b13479786ab57e1fc"
   }
  }
 },
 "nbformat": 4,
 "nbformat_minor": 2
}
