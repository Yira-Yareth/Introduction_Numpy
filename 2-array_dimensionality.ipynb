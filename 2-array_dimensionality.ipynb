{
 "cells": [
  {
   "cell_type": "markdown",
   "metadata": {},
   "source": [
    "### 3D array creation\n",
    "In the first lesson, you created a sudoku_game two-dimensional NumPy array. Perhaps you have hundreds of sudoku game arrays, and you'd like to save the solution for this one, sudoku_solution, as part of the same array as its corresponding game in order to organize your sudoku data better. You could accomplish this by stacking the two 2D arrays on top of each other to create a 3D array."
   ]
  },
  {
   "cell_type": "code",
   "execution_count": 1,
   "metadata": {},
   "outputs": [],
   "source": [
    "#Libraries\n",
    "import numpy as np  #import NumPy\n",
    "import matplotlib.pyplot as plt #import matplolib"
   ]
  },
  {
   "cell_type": "code",
   "execution_count": 6,
   "metadata": {},
   "outputs": [
    {
     "name": "stdout",
     "output_type": "stream",
     "text": [
      "<class 'numpy.ndarray'>\n"
     ]
    },
    {
     "data": {
      "text/plain": [
       "2"
      ]
     },
     "execution_count": 6,
     "metadata": {},
     "output_type": "execute_result"
    }
   ],
   "source": [
    "sudoku_game_l=[[0, 0, 4, 3, 0, 0, 2, 0, 9],\n",
    "       [0, 0, 5, 0, 0, 9, 0, 0, 1],\n",
    "       [0, 7, 0, 0, 6, 0, 0, 4, 3],\n",
    "       [0, 0, 6, 0, 0, 2, 0, 8, 7],\n",
    "       [1, 9, 0, 0, 0, 7, 4, 0, 0],\n",
    "       [0, 5, 0, 0, 8, 3, 0, 0, 0],\n",
    "       [6, 0, 0, 0, 0, 0, 1, 0, 5],\n",
    "       [0, 0, 3, 5, 0, 8, 6, 9, 0],\n",
    "       [0, 4, 2, 9, 1, 0, 3, 0, 0]]\n",
    "\n",
    "# Convert sudoku_game_l into an array\n",
    "sudoku_game = np.array(sudoku_game_l)\n",
    "\n",
    "# Print the type of sudoku_array \n",
    "print(type(sudoku_game))\n",
    "np.ndim(sudoku_game_l)"
   ]
  },
  {
   "cell_type": "code",
   "execution_count": 7,
   "metadata": {},
   "outputs": [
    {
     "name": "stdout",
     "output_type": "stream",
     "text": [
      "<class 'numpy.ndarray'>\n"
     ]
    },
    {
     "data": {
      "text/plain": [
       "2"
      ]
     },
     "execution_count": 7,
     "metadata": {},
     "output_type": "execute_result"
    }
   ],
   "source": [
    "sudoku_solution_l=[[8, 6, 4, 3, 7, 1, 2, 5, 9],\n",
    "       [3, 2, 5, 8, 4, 9, 7, 6, 1],\n",
    "       [9, 7, 1, 2, 6, 5, 8, 4, 3],\n",
    "       [4, 3, 6, 1, 9, 2, 5, 8, 7],\n",
    "       [1, 9, 8, 6, 5, 7, 4, 3, 2],\n",
    "       [2, 5, 7, 4, 8, 3, 9, 1, 6],\n",
    "       [6, 8, 9, 7, 3, 4, 1, 2, 5],\n",
    "       [7, 1, 3, 5, 2, 8, 6, 9, 4],\n",
    "       [5, 4, 2, 9, 1, 6, 3, 7, 8]]\n",
    "\n",
    "# Convert sudoku_game_l into an array\n",
    "sudoku_solution = np.array(sudoku_solution_l)\n",
    "\n",
    "# Print the type of sudoku_array \n",
    "print(type(sudoku_solution))\n",
    "np.ndim(sudoku_solution)"
   ]
  },
  {
   "cell_type": "code",
   "execution_count": 5,
   "metadata": {},
   "outputs": [
    {
     "name": "stdout",
     "output_type": "stream",
     "text": [
      "[[[0 0 4 3 0 0 2 0 9]\n",
      "  [0 0 5 0 0 9 0 0 1]\n",
      "  [0 7 0 0 6 0 0 4 3]\n",
      "  [0 0 6 0 0 2 0 8 7]\n",
      "  [1 9 0 0 0 7 4 0 0]\n",
      "  [0 5 0 0 8 3 0 0 0]\n",
      "  [6 0 0 0 0 0 1 0 5]\n",
      "  [0 0 3 5 0 8 6 9 0]\n",
      "  [0 4 2 9 1 0 3 0 0]]\n",
      "\n",
      " [[8 6 4 3 7 1 2 5 9]\n",
      "  [3 2 5 8 4 9 7 6 1]\n",
      "  [9 7 1 2 6 5 8 4 3]\n",
      "  [4 3 6 1 9 2 5 8 7]\n",
      "  [1 9 8 6 5 7 4 3 2]\n",
      "  [2 5 7 4 8 3 9 1 6]\n",
      "  [6 8 9 7 3 4 1 2 5]\n",
      "  [7 1 3 5 2 8 6 9 4]\n",
      "  [5 4 2 9 1 6 3 7 8]]]\n"
     ]
    },
    {
     "data": {
      "text/plain": [
       "3"
      ]
     },
     "execution_count": 5,
     "metadata": {},
     "output_type": "execute_result"
    }
   ],
   "source": [
    "#Create a 3D array called game_and_solution by stacking the two 2D arrays, sudoku_game and sudoku_solution, on top of one another; in the final array, sudoku_game should appear before sudoku_solution.\n",
    "game_and_solution = np.array([sudoku_game,sudoku_solution])\n",
    "#Print game_and_solution\n",
    "print(game_and_solution) \n",
    "np.ndim(game_and_solution)"
   ]
  },
  {
   "cell_type": "markdown",
   "metadata": {},
   "source": [
    "Notice how storing sudoku_game and sudoku_solution in three dimensions makes more sense than adding the data from both to one 2D array."
   ]
  },
  {
   "cell_type": "markdown",
   "metadata": {},
   "source": [
    "### The fourth dimension\n",
    "Printing arrays is a good way to check code output for small arrays like sudoku_game_and_solution, but it becomes unwieldy when dealing with bigger arrays and those with higher dimensions. Another important check is to look at the array's .shape.\n",
    "\n",
    "Now, you'll create a 4D array that contains two sudoku games and their solutions\n",
    "\n",
    "1.- Create another 3D array called new_game_and_solution with a different 2D game and 2D solution pair: new_sudoku_game and new_sudoku_solution. new_sudoku_game should appear before new_sudoku_solution.\n",
    "\n",
    "\n",
    "2.- Create a 4D array called games_and_solutions by making an array out of the two 3D arrays: game_and_solution and new_game_and_solution, in that order.\n",
    "\n",
    "\n",
    "3.- Print the shape of games_and_solutions.\n",
    "\n"
   ]
  },
  {
   "cell_type": "code",
   "execution_count": 17,
   "metadata": {},
   "outputs": [
    {
     "name": "stdout",
     "output_type": "stream",
     "text": [
      "<class 'numpy.ndarray'>\n",
      "<class 'numpy.ndarray'>\n"
     ]
    }
   ],
   "source": [
    "#Create new_sudoku_game and new_sudoku_solution arrays\n",
    "new_sudoku_game= np.array(([[0, 0, 4, 3, 0, 0, 0, 0, 0],\n",
    "       [8, 9, 0, 2, 0, 0, 6, 7, 0],\n",
    "       [7, 0, 0, 9, 0, 0, 0, 5, 0],\n",
    "       [5, 0, 0, 0, 0, 8, 1, 4, 0],\n",
    "       [0, 7, 0, 0, 3, 2, 0, 6, 0],\n",
    "       [6, 0, 0, 0, 0, 1, 3, 0, 8],\n",
    "       [0, 0, 1, 7, 5, 0, 9, 0, 0],\n",
    "       [0, 0, 5, 0, 4, 0, 0, 1, 2],\n",
    "       [9, 8, 0, 0, 0, 6, 0, 0, 5]]))\n",
    "\n",
    "print(type(new_sudoku_game))\n",
    "\n",
    "new_sudoku_solution=np.array(([[2, 5, 4, 3, 6, 7, 8, 9, 1],\n",
    "       [8, 9, 3, 2, 1, 5, 6, 7, 4],\n",
    "       [7, 1, 6, 9, 8, 4, 2, 5, 3],\n",
    "       [5, 3, 2, 6, 9, 8, 1, 4, 7],\n",
    "       [1, 7, 8, 4, 3, 2, 5, 6, 9],\n",
    "       [6, 4, 9, 5, 7, 1, 3, 2, 8],\n",
    "       [4, 2, 1, 7, 5, 3, 9, 8, 6],\n",
    "       [3, 6, 5, 8, 4, 9, 7, 1, 2],\n",
    "       [9, 8, 7, 1, 2, 6, 4, 3, 5]]))\n",
    "\n",
    "print(type(new_sudoku_solution))"
   ]
  },
  {
   "cell_type": "code",
   "execution_count": 18,
   "metadata": {},
   "outputs": [
    {
     "name": "stdout",
     "output_type": "stream",
     "text": [
      "(2, 2, 9, 9)\n"
     ]
    },
    {
     "data": {
      "text/plain": [
       "4"
      ]
     },
     "execution_count": 18,
     "metadata": {},
     "output_type": "execute_result"
    }
   ],
   "source": [
    "# Create a second 3D array of another game and its solution \n",
    "new_game_and_solution = np.array([new_sudoku_game,new_sudoku_solution])\n",
    "# Create a 4D array of both game and solution 3D arrays\n",
    "games_and_solutions = np.array([game_and_solution,new_game_and_solution,])\n",
    "\n",
    "# Print the shape of your 4D array\n",
    "print(games_and_solutions.shape)\n",
    "np.ndim(games_and_solutions)"
   ]
  },
  {
   "cell_type": "markdown",
   "metadata": {},
   "source": [
    "The .shape of (2, 2, 9, 9) means that there are two sets of game/solution pairs. Within each game/solution pair, all arrays have nine rows and nine columns. That's exactly right! If there were ten game/solution pairs, the .shape would be (10, 2, 9, 9)."
   ]
  },
  {
   "cell_type": "markdown",
   "metadata": {},
   "source": [
    "#### Flattening and reshaping\n",
    "You've learned to change not only array shape but also the number of dimensions that an array has. To test these skills, you'll change sudoku_game from a 2D array to a 1D array and back again. Can we trust NumPy to keep the array elements in the same order after being flattened and reshaped? Time to find out.\n",
    "\n",
    "1.- Flatten sudoku_game so that it is a 1D array, and save it as flattened_game.\n",
    "\n",
    "\n",
    "2.-Print the .shape of flattened_game."
   ]
  },
  {
   "cell_type": "code",
   "execution_count": 23,
   "metadata": {},
   "outputs": [
    {
     "name": "stdout",
     "output_type": "stream",
     "text": [
      "(9, 9)\n"
     ]
    }
   ],
   "source": [
    "sudoku_game=np.array([[0, 0, 4, 3, 0, 0, 2, 0, 9],\n",
    "       [0, 0, 5, 0, 0, 9, 0, 0, 1],\n",
    "       [0, 7, 0, 0, 6, 0, 0, 4, 3],\n",
    "       [0, 0, 6, 0, 0, 2, 0, 8, 7],\n",
    "       [1, 9, 0, 0, 0, 7, 4, 0, 0],\n",
    "       [0, 5, 0, 0, 8, 3, 0, 0, 0],\n",
    "       [6, 0, 0, 0, 0, 0, 1, 0, 5],\n",
    "       [0, 0, 3, 5, 0, 8, 6, 9, 0],\n",
    "       [0, 4, 2, 9, 1, 0, 3, 0, 0]])\n",
    "print(sudoku_game.shape)"
   ]
  },
  {
   "cell_type": "code",
   "execution_count": 20,
   "metadata": {},
   "outputs": [
    {
     "name": "stdout",
     "output_type": "stream",
     "text": [
      "(81,)\n"
     ]
    }
   ],
   "source": [
    "# Flatten sudoku_game\n",
    "flattened_game = sudoku_game.flatten()\n",
    "\n",
    "# Print the shape of flattened_game\n",
    "print(flattened_game.shape)"
   ]
  },
  {
   "cell_type": "markdown",
   "metadata": {},
   "source": [
    "3.-Reshape the flattened_game back to its original shape of nine rows and nine columns; save the new array as reshaped_game."
   ]
  },
  {
   "cell_type": "code",
   "execution_count": 24,
   "metadata": {},
   "outputs": [
    {
     "name": "stdout",
     "output_type": "stream",
     "text": [
      "(9, 9)\n",
      "(9, 9)\n",
      "[[0 0 4 3 0 0 2 0 9]\n",
      " [0 0 5 0 0 9 0 0 1]\n",
      " [0 7 0 0 6 0 0 4 3]\n",
      " [0 0 6 0 0 2 0 8 7]\n",
      " [1 9 0 0 0 7 4 0 0]\n",
      " [0 5 0 0 8 3 0 0 0]\n",
      " [6 0 0 0 0 0 1 0 5]\n",
      " [0 0 3 5 0 8 6 9 0]\n",
      " [0 4 2 9 1 0 3 0 0]]\n"
     ]
    }
   ],
   "source": [
    "# Reshape flattened_game back to a nine by nine array\n",
    "reshaped_game = flattened_game.reshape((9, 9))\n",
    "\n",
    "# Print sudoku_game and reshaped_game\n",
    "print(sudoku_game.shape)\n",
    "print(reshaped_game.shape)\n",
    "print(reshaped_game)"
   ]
  },
  {
   "cell_type": "markdown",
   "metadata": {},
   "source": [
    "Phew! Nice work resurrecting that sudoku game. Notice that .flatten() preserves the order of array elements—when the array is reshaped back to its original shape, the numbers are in the exact same places as they were before flattening."
   ]
  }
 ],
 "metadata": {
  "kernelspec": {
   "display_name": "Python 3.9.7 ('base')",
   "language": "python",
   "name": "python3"
  },
  "language_info": {
   "codemirror_mode": {
    "name": "ipython",
    "version": 3
   },
   "file_extension": ".py",
   "mimetype": "text/x-python",
   "name": "python",
   "nbconvert_exporter": "python",
   "pygments_lexer": "ipython3",
   "version": "3.9.7"
  },
  "orig_nbformat": 4,
  "vscode": {
   "interpreter": {
    "hash": "62e4621a12c6b3383ac037c7da48aeaaf02a2143a9292cb91881b9d0ca659f2a"
   }
  }
 },
 "nbformat": 4,
 "nbformat_minor": 2
}
